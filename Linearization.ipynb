{
 "cells": [
  {
   "cell_type": "code",
   "execution_count": 1,
   "metadata": {},
   "outputs": [],
   "source": [
    "# analytic solution with Python\n",
    "import sympy as sp\n",
    "sp.init_printing()\n",
    "\n",
    "# define symbols\n",
    "x,u = sp.symbols(['x','u'])\n",
    "\n",
    "# define equation\n",
    "dxdt = -x**2 + sp.sqrt(u)  #as in example -x^2 + sqrt(u)\n",
    "\n"
   ]
  },
  {
   "cell_type": "code",
   "execution_count": 2,
   "metadata": {},
   "outputs": [
    {
     "name": "stdout",
     "output_type": "stream",
     "text": [
      "-2*x\n",
      "1/(2*sqrt(u))\n"
     ]
    }
   ],
   "source": [
    "print(sp.diff(dxdt,x))\n",
    "print(sp.diff(dxdt,u))\n",
    "\n"
   ]
  },
  {
   "cell_type": "code",
   "execution_count": 3,
   "metadata": {},
   "outputs": [],
   "source": [
    "# numeric solution with Python\n",
    "import numpy as np\n",
    "from scipy.misc import derivative\n",
    "u = 16.0\n",
    "x = 2.0\n",
    "def pd_x(x):\n",
    "    dxdt = -x**2 + np.sqrt(u)\n",
    "    return dxdt\n",
    "def pd_u(u):\n",
    "    dxdt = -x**2 + np.sqrt(u)\n",
    "    return dxdt\n"
   ]
  },
  {
   "cell_type": "code",
   "execution_count": null,
   "metadata": {},
   "outputs": [],
   "source": [
    "\n",
    "print('Approximate Partial Derivatives')\n",
    "print(derivative(pd_x,x,dx=1e-4))\n",
    "print(derivative(pd_u,u,dx=1e-4))\n",
    "\n",
    "print('Exact Partial Derivatives')\n",
    "print(-2.0*x) # exact d(f(x,u))/dx\n",
    "print(0.5 / np.sqrt(u)) # exact d(f(x,u))/du"
   ]
  }
 ],
 "metadata": {
  "kernelspec": {
   "display_name": "Python 3",
   "language": "python",
   "name": "python3"
  },
  "language_info": {
   "codemirror_mode": {
    "name": "ipython",
    "version": 3
   },
   "file_extension": ".py",
   "mimetype": "text/x-python",
   "name": "python",
   "nbconvert_exporter": "python",
   "pygments_lexer": "ipython3",
   "version": "3.7.6"
  }
 },
 "nbformat": 4,
 "nbformat_minor": 4
}
